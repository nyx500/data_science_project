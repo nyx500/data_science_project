{
 "cells": [
  {
   "cell_type": "markdown",
   "id": "6375e9e5-7af2-4160-97ed-c5e6ae986cbe",
   "metadata": {},
   "source": [
    "# BSc Computer Science CM3005 (Data Science) Midterm Coursework on Linear Regression"
   ]
  },
  {
   "cell_type": "markdown",
   "id": "0a6768de-4c60-4cb4-80b7-4e4e3c47b695",
   "metadata": {},
   "source": [
    "## Task 1: Domain-Specific Area and Objectives of the Project\n",
    "\n",
    "> \"Weather has had a greater effect on sales than economic numbers, we’ve known that forever.\"\n",
    "> </br>\n",
    "> [Andy Street, John Lewis Managing Director, 2014](https://www.preventionweb.net/news/met-office-review-uks-record-breaking-summer-2022)*\n",
    "\n",
    "### (a) Introducing the Domain: *Quantifying the Influence of Weather on Retail Sales in the UK from 1988 to 2023*\n",
    "\n",
    "This is a question aimed at anyone living in typically cool and rainy climate, like the UK: \n",
    "</br></br>\n",
    "*Have you ever experienced the frustration and annoyance of going clothes shopping during a particularly blustery and wet February or March and finding that all the fashion collections are full of spring-themed floral, summery dresses and floaty cardigans, when all you want is snuggly quilted parka or a wooly jumper?* \n",
    "</br></br>\n",
    "It's hard to believe that spring could be just around the corner when it's sleeting outside - which continue for a couple more weeks if not months! As a Pole, my personal experience of shopping in \"springtime\" in Poland has involved seeing Spanish-owned international apparel retail companies such as Zara and Bershka selling their springtime collections in March in a country which frequently sees snow at the beginning of May. Personally, I have always wondered how clothing companies have managed to make money during these transition periods! \n",
    "</br>\n",
    "</br>\n",
    "As such, the purpose of this data analysis is to explore and quantify the impact of the weather on retail sales in the UK by implementing several statistical techniques as well as a linear regression model (in Python).\n",
    "</br>\n",
    "</br>\n",
    "Although it has been widely acknowledged in both economic research and the media that the weather has an important effect on consumer spending patterns and daily business activity, so far it has proven very difficult to determine precisely what the nature of this relationship is [(WeatherAds.io)](https://www.weatherads.io/blog/the-impact-of-weather-on-retail-sector-in-the-uk#:~:text=In%20the%20UK%20%E2%80%93%20a%20country,a%201%25%20fluctuation%20in%20sales). \n",
    "</br>\n",
    "</br>\n",
    "For instance, this *Guardian* article suggested that wet and cold weather during a specific month led to an unexpected fall in retail sales \n",
    "[(*The Guardian: Wet weather dampens retail sales in Great Britain*)](https://www.weatherads.io/blog/the-impact-of-weather-on-retail-sector-in-the-uk#:~:text=In%20the%20UK%20%E2%80%93%20a%20country,a%201%25%20fluctuation%20in%20sales),\n",
    "while this one on *Euronews* blamed the **above-average** temperatures for a decline in consumer spending  [(*Euronews: Cost of living and hot weather cause retail sales to fall in UK*)](https://www.euronews.com/business/2023/10/20/cost-of-living-and-hot-weather-cause-retail-sales-to-fall-in-uk). One could argue that warm weather would make consumers less likely to go shopping as they would engage more in sports and other outdoor activities, while on the other hand, one article posits that </br>\n",
    "</br>\n",
    "> \"It has been proven that after exposure to sunlight consumers are more willing to self-reward (i.e. make purchases), and are also willing to pay more for goods and services. It has also been shown that when consumers are in a warm environment, their purchase intent increases, and they judge the value of certain items higher. In addition the same study found that warmth leads consumers to be more easily swayed by marketing messages.\" \n",
    "</br>\n",
    "[(WeatherAds.io)](https://www.weatherads.io/blog/the-impact-of-weather-on-retail-sector-in-the-uk#:~:text=In%20the%20UK%20%E2%80%93%20a%20country,a%201%25%20fluctuation%20in%20sales)\n",
    "</br>\n",
    "</br>\n",
    "\n",
    "Despite its complexity, it is undoubtable that examining the nature of this relationship more closely be of value for a range of different stakeholders, including retail company managers, shareholders, governmental institutions and potential investors. As [Badorf and Hoberg](https://www.researchgate.net/publication/335173325_The_impact_of_daily_weather_on_retail_sales_An_empirical_study_in_brick-and-mortar_stores#:~:text=The%20effect%20on%20daily%20sales,not%20consider%20non%2Dlinear%20effects) outline in their 2020 study on the impact of daily weather on sales in 673 German retail stores, weather \"has an immediate effect on daily businesses and sales\", and precipitation and temperature \"significantly influence people's behavior\", although it is \"unclear how\". \n",
    "\n",
    "What makes the investigation of this relationship particularly topical and timely is that in recent years, the UK, together with other areas of north-west Europe, has experienced increasingly warm and dry summer temperatures due to the effects of climate change, with temperatures of over 40C being reached during summer 2022 in the UK for the first time [(*UNDRR PreventionWeb*)](https://www.preventionweb.net/news/met-office-review-uks-record-breaking-summer-2022). Establishing the effect of hot/dry weather in the summer on retail sales is especially important in this context where this trend is expect to continue due to global warming. For example, shop owners might decide to invest in air-conditioning or different building materials if it the data suggests that temperatures over a certain value discourage people from browsing in their stores.\n",
    "\n",
    "### (b) Project Objectives\n",
    "- To collect, pre-process, and statistically summarize datasets containing historic UK retail prices and weather data.\n",
    "- To use visualization libraries in Python to get an overview of the important trends, patterns and relationships within the data.\n",
    "- To determine the effect of weather on UK retail sales using statistical analysis and linear regression.\n",
    "- To determine which weather parameters (e.g temperature, wind, precipitation) have the greatest effect on sales.\n",
    "- To determine if a polynomial regression model should be used in case the relationship is not linear.\n",
    "\n",
    "### (c) Proposed Impact of Study\n",
    "Retail sales are often considered as a \"barometer\" for the overall health of an economy - for instance, consumer spending accounts for 60% of the UK's GDP per capita [(*Admirals.com*)](https://admirals.com/financial-events/why-retail-sales-important), and the sector accounts for about 3 million jobs. Therefore, sales figures inform economists about consumer demand for finished products, whether the economy is expanding or contracting, and likely trends in the unemployment rate. Importantly, they are considered to be a **reliable** economic indicator of growth [(*Finance.Yahoo.com*)](https://finance.yahoo.com/news/retail-sales-mean-economy-110029982.html), as well as having a profound impact on foreign investment [(*DailyFx.com*)](https://www.dailyfx.com/education/macro-fundamentals/what-are-retail-sales-and-why-is-it-important-to-traders-a-guide.html). Consequently, an examination of how weather impacts sales can potentially be of use to the following stakeholders:\n",
    "\n",
    "### (d) Key Stakeholders\n",
    "- Governmental institutions have a vested interest in trends in retail sales in order to gauge how well businesses are doing and to assess consumers' levels of disposable income [(*Dailyfx.com*)](https://www.dailyfx.com/education/macro-fundamentals/what-are-retail-sales-and-why-is-it-important-to-traders-a-guide.html)\n",
    "- Retail companies can use these kinds of investigations for the basis of their data-driven decision making. To provide just one example, being able to sync advertisements to match appropriate weather conditions and decreasing ad-spend during periods of less-favourable weather can lead to the decrease of costs for the company [(*WeatherAds.io*)](https://www.weatherads.io/blog/the-impact-of-weather-on-retail-sector-in-the-uk#:~:text=In%20the%20UK%20%E2%80%93%20a%20country,a%201%25%20fluctuation%20in%20sales)\n",
    "- Central banking and monetary regulation institutions adjust interest rates based on consumer demand and sales to control inflation, thus building models to predict trends in spending can lead to a better-informed adaptation of rates [(*Admirals.com*)](https://admirals.com/financial-events/why-retail-sales-important).\n",
    "- Shareholders, traders and potential investors in retail companies are interested in patterns in sales because retail sales exhibit a positive correlation with stock prices [(*Dailyfx.com*)](https://www.dailyfx.com/education/macro-fundamentals/what-are-retail-sales-and-why-is-it-important-to-traders-a-guide.html)\n",
    "- Bondholders are negatively affected by an increase in retail sales, as when inflation rises, bond prices drop [(*Finance.Yahoo.com*)](https://finance.yahoo.com/news/retail-sales-mean-economy-110029982.html)\n",
    "- Everyday consumers and small businesses can be benefitted by knowing how demand fluctuates based on weather can be of interest in relation of when to make purchases [(*WeatherAds.io*)](https://www.weatherads.io/blog/the-impact-of-weather-on-retail-sector-in-the-uk#:~:text=In%20the%20UK%20%E2%80%93%20a%20country,a%201%25%20fluctuation%20in%20sales)\n",
    "\n",
    "### (e) Possible Limitations and Challenges of this Project\n",
    "- **Adjusting retail sales to account for inflation**: ensure that price indices are used to track changes in retail prices/inflation so that changes in spending and sales can be assessed in **real terms** [(*Finance-Monthly.com*)](https://www.finance-monthly.com/2023/01/what-is-retail-sales-why-is-it-important/)\n",
    "- **Linear or polynomial model?**: Some academic research has suggested that the relationship between weather and sales is probably non-linear. This suggests that a possible solution would be a model which uses a higher-order polynomial, and thus the model should be adjusted accordingly. However, finding the correct degree of complexity can be challenging [(*Badorf and Hoberg, 2020*)](https://www.researchgate.net/publication/335173325_The_impact_of_daily_weather_on_retail_sales_An_empirical_study_in_brick-and-mortar_stores#:~:text=The%20effect%20on%20daily%20sales,not%20consider%20non%2Dlinear%20effects).\n",
    "- **Which parameters/features are important?**: \"Weather\" that might have an impact on sales is not constricted to just temperature, but also involves parameters such as wind, precipitation and humidity[(*Rose and Dolega, 2021*)](https://www.researchgate.net/publication/354129194_It's_the_Weather_Quantifying_the_Impact_of_Weather_on_Retail_Sales). As such, it can be difficult to select which features have the greatest influence on the outputs (sales figures). Therefore, using domain expertise to determine which parameters have been found the most significant could be a potential solution here.\n",
    "- **Which retail sectors are more influenced by the weather?**: Retail sales in certain sectors (e.g. apparel/clothing) may be more influenced by weather fluctuations than other sectors such as electronics, therefore it might be useful to examine the impact of weather on the different sectors as well as generallyenerally\n",
    "- **Difficulty of finding historic UK wind data online**: I have faced significant challenges in finding historic wind data for the same dates as the rest of the data for the UK, as this data is not available for free on the MetOffice and is only available if you pay for this service. Wind is an important parameter for investigating how weather affects consumer behaviour, and not having access to data for this parameter it is a great limitation on this study."
   ]
  },
  {
   "cell_type": "markdown",
   "id": "3327ca15-05ac-4f41-a23d-51da6a93596a",
   "metadata": {},
   "source": [
    "# Task 2: Description of the Data\n",
    "\n",
    "The Retail Sales Index data, collected by the Office of National Statistics (ONS), and Met Office weather data can be accessed here:\n",
    "\n",
    "- [Met Office Weather Data - Accessed 12/12/2023](https://www.metoffice.gov.uk/research/climate/maps-and-data/uk-and-regional-series)\n",
    "- [ONS Retail Sales Data - Accessed 16/12/2023](https://www.ons.gov.uk/businessindustryandtrade/retailindustry/datasets/retailsalesindexreferencetables/current)\n",
    "\n",
    "Both datasets are licensed under the [Open Government Licence 3.0](https://www.nationalarchives.gov.uk/doc/open-government-licence/version/3/). This permits users to copy, alter and share the information, so long as a license-link and attribution are provided.\n",
    " The MetOffice provides thorough documentation on its data collection [here](https://www.metoffice.gov.uk/research/climate/maps-and-data/data/haduk-grid/haduk-grid). \n",
    " </br> </br>\n",
    "The data recorded at regional weather stations is used to interpolate values for a 1km x 1km data grid for the entire UK land surface, using multiple-regression with [inverse-distance weighted interpolation](https://www.metoffice.gov.uk/research/climate/maps-and-data/data/haduk-grid/methods). Accuracy is monitored through calculating root-mean square errors (RMSE) which [compares the differences between real and predicted values](https://www.metoffice.gov.uk/research/climate/maps-and-data/data/haduk-grid/faq#faq1). While these datasets do undergo rigorous error-checking, the inherent limitations of interpolation may inevitably introduce some error.\n",
    "</br></br>\n",
    "The ONS constructs the Retail Sales dataset for every month using the Monthly Business Survey (MBS-RSI). Detailed documentation about the quality checks and methodology can be found [here](https://www.ons.gov.uk/businessindustryandtrade/retailindustry/methodologies/retailsalesindexrsiqmi). As many financial institutions depend on this data, the ONS invests many resources into making this data as reliable as possible. The data is collected from businesses using an electronic survey. Furthermore, the ONS uses “chasing” tactics by trained employees to ensure a high monthly response rate. A system of automated checks is implemented to “flag” figures above a certain threshold. \n",
    "</br></br>\n",
    "The RSI dataset provided by the ONS comes in the form of multiple tables in Excel sheets. The tables we will use are the KPSA1, the seasonally-adjusted percentage change in retail sales volume compared to the same month a year earlier, and KPSA3, which stores percentage change from the previous to the current month. Each percentage-change is represented as a floating-point number. This project will initially explore these two metrics through the use visualization techniques and summary statistics, in order to evaluate the effect of the weather on these two dependent variables, and to decide which relationship would best be modelled using Linear Regression.\n",
    "</br></br>Using seasonally-adjusted data helps to isolate the effect of weather on sales by accounting for the impact of holidays. Each table consists of 421 rows indexed from January 1988 to October 2023, with 10 columns representing sales volume for different retail sectors. For this project, the column named All retailing excluding automotive fuel will be selected to exclude impact of the volatility of fuel prices.\n",
    "The weather data consists of 7 tables each one of which represents a different “feature” or weather parameter. Each row in these tables is indexed by a year, while each column represents a month/season. The cells contain the values representing the parameter measured (floating-point numbers). The units used are: degrees Celsius (temperature), number of days (days with frost and more than 1mm precipitation), hours (sunshine), and millimetres (precipitation). Each table comprises a different number of rows/years, ranging from starting in 1836 to 1960 to 2023. However, as we only have data for retail sales volume from January 1988 to October 2023, the weather data used should be constricted to this time period.ta.\r\n",
    "\n"
   ]
  },
  {
   "cell_type": "code",
   "execution_count": null,
   "id": "f5fab7af-2275-4003-893e-b4d693549ce3",
   "metadata": {},
   "outputs": [],
   "source": []
  }
 ],
 "metadata": {
  "kernelspec": {
   "display_name": "Python 3 (ipykernel)",
   "language": "python",
   "name": "python3"
  },
  "language_info": {
   "codemirror_mode": {
    "name": "ipython",
    "version": 3
   },
   "file_extension": ".py",
   "mimetype": "text/x-python",
   "name": "python",
   "nbconvert_exporter": "python",
   "pygments_lexer": "ipython3",
   "version": "3.12.0"
  }
 },
 "nbformat": 4,
 "nbformat_minor": 5
}
